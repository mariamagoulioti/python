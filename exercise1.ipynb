{
  "nbformat": 4,
  "nbformat_minor": 0,
  "metadata": {
    "colab": {
      "provenance": [],
      "include_colab_link": true
    },
    "kernelspec": {
      "name": "python3",
      "display_name": "Python 3"
    },
    "language_info": {
      "name": "python"
    }
  },
  "cells": [
    {
      "cell_type": "markdown",
      "metadata": {
        "id": "view-in-github",
        "colab_type": "text"
      },
      "source": [
        "<a href=\"https://colab.research.google.com/github/mariamagoulioti/python/blob/main/exercise1.ipynb\" target=\"_parent\"><img src=\"https://colab.research.google.com/assets/colab-badge.svg\" alt=\"Open In Colab\"/></a>"
      ]
    },
    {
      "cell_type": "markdown",
      "source": [
        "## Άσκηση 1\n",
        "\n",
        "Δημιουργήστε τις παρακάτω μεταβλητές:\n",
        "- όνομα\n",
        "- επώνυμο\n",
        "- αριθμός μητρώου\n",
        "- μάθημα 1\n",
        "- μάθημα 2\n",
        "- μάθημα 3\n",
        "- βαθμός μαθήματος 1\n",
        "- βαθμός μαθήματος 2\n",
        "- βαθμός μαθήματος 3\n",
        "\n",
        "Σε κάθε μεταβλητή δώστε το κατάλληλο όνομα (με αγγλικούς χαρακτήρες) και την αντίστοιχη τιμή, με το σωστό τύπο δεδομένων (string / integer).\n",
        "\n",
        "Τυπώστε στην οθόνη (print) τις τιμές όλων των μεταβλητών που ορίσατε.\n",
        "\n",
        "**Hints**:\n",
        "- όπου η τιμή είναι αριθμός, σκεφτείτε αν θα χρησιμοποιήσετε stirng ή integer, ανάλογα με το αν χρειάζεται να κάνετε αργότερα αριθμητικές πράξεις\n",
        "- χρησιμοποιήστε ονόματα μεταβλητών που να έχουν νόημα\n",
        "- εάν γράψετε όλες τις εντολές σε ένα κελί, όταν φτάσετε στο τέλος στο σημείο να γράψετε την εντολή `print`, το colab θα σας προτείνει να γράψετε μέσα στις παρενθέσεις όλες τις μεταβλητές. Πατήστε `tab` για να αποδεχτείτε την πρόταση που σας κάνει."
      ],
      "metadata": {
        "id": "JZISjhuEQFOB"
      }
    },
    {
      "cell_type": "code",
      "execution_count": null,
      "metadata": {
        "id": "cRnQhimEPhY0",
        "colab": {
          "base_uri": "https://localhost:8080/"
        },
        "outputId": "d93c3045-9640-4cec-9a5c-865072753c8f"
      },
      "outputs": [
        {
          "output_type": "stream",
          "name": "stdout",
          "text": [
            "Maria\n",
            "Magoulioti\n",
            "2100075\n",
            "Computational data journalism\n",
            "Istoria ton MME\n",
            "Organosiaki Epikoinonia\n",
            "10\n",
            "6\n",
            "9\n"
          ]
        }
      ],
      "source": [
        "Name = \"Maria\" #string\n",
        "Surname = \"Magoulioti\" #string\n",
        "AM = 2100075 #integer\n",
        "mathima1 = \"Computational data journalism\" #string\n",
        "mathima2 = \"Istoria ton MME\" #string\n",
        "mathima3 =\"Organosiaki Epikoinonia\" #string\n",
        "grade1 = 10 #integer\n",
        "grade2 = 6 #integer\n",
        "grade3 = 9 #integer\n",
        "\n",
        "print(Name)\n",
        "print(Surname)\n",
        "print(AM)\n",
        "print(mathima1)\n",
        "print(mathima2)\n",
        "print(mathima3)\n",
        "print(grade1)\n",
        "print(grade2)\n",
        "print(grade3)"
      ]
    },
    {
      "cell_type": "markdown",
      "source": [
        "## Άσκηση 2\n",
        "\n",
        "Υπολογίστε το μέσο όρο των βαθμών των 3 μαθημάτων, αποθηκεύστε τον σε μια μεταβλητή και τυπώστε την τιμή της μεταβλητής του μέσου όρου στην οθόνη.\n",
        "\n",
        "**Hints**:\n",
        "- ο μέσος όρος υπολογίζεται με τη φόρμουλα: <άθροισμα επιμέρους τιμών> δια <πλήθος τιμών>\n",
        "- για τον υπολογισμό του αθροίσματος των επιμέρους τιμών χρησιμοποιήστε τα ονόματα των μεταβλητών των επιμέρους τιμών και όχι τις τιμές τους"
      ],
      "metadata": {
        "id": "uPD0W-qcWcfV"
      }
    },
    {
      "cell_type": "code",
      "source": [
        "average_grade = (grade1 + grade2 + grade3)/3\n",
        "print(average_grade)"
      ],
      "metadata": {
        "id": "Z0OnhXMURzMR",
        "colab": {
          "base_uri": "https://localhost:8080/"
        },
        "outputId": "6bb425f6-a418-49f9-adc7-7e8854f3481b"
      },
      "execution_count": null,
      "outputs": [
        {
          "output_type": "stream",
          "name": "stdout",
          "text": [
            "8.333333333333334\n"
          ]
        }
      ]
    },
    {
      "cell_type": "markdown",
      "source": [
        "Τυπώστε στην οθόνη τον τύπο δεδομένων της μεταβλητής του μέσου όρου."
      ],
      "metadata": {
        "id": "3lDi2k3iYoWe"
      }
    },
    {
      "cell_type": "code",
      "source": [
        "print(type(average_grade))"
      ],
      "metadata": {
        "id": "ET5xvgxTZAJb",
        "colab": {
          "base_uri": "https://localhost:8080/"
        },
        "outputId": "4fc2d87b-db55-4107-c8bf-0da81528f29f"
      },
      "execution_count": null,
      "outputs": [
        {
          "output_type": "stream",
          "name": "stdout",
          "text": [
            "<class 'float'>\n"
          ]
        }
      ]
    },
    {
      "cell_type": "markdown",
      "source": [
        "Μετατρέψτε το μέσο όρο σε ακέραιο (integer) και τυπώστε το αποτέλεσμα στην οθόνη."
      ],
      "metadata": {
        "id": "y-QK_9DmZHAF"
      }
    },
    {
      "cell_type": "code",
      "source": [
        "average_grade_int = int(average_grade)\n",
        "print(average_grade_int)"
      ],
      "metadata": {
        "id": "VV13wQMoR69T",
        "colab": {
          "base_uri": "https://localhost:8080/"
        },
        "outputId": "383941ef-66b6-4fd2-f27f-e62c175f2482"
      },
      "execution_count": null,
      "outputs": [
        {
          "output_type": "stream",
          "name": "stdout",
          "text": [
            "8\n"
          ]
        }
      ]
    },
    {
      "cell_type": "markdown",
      "source": [
        "## Άσκηση 3\n",
        "\n",
        "Δημιουργήστε ένα νέο κελί κώδικα.\n",
        "\n",
        "Μέσα στο κελί γράφει: Start coding or generate with AI. Πατήστε τη λέξη generate.\n",
        "\n",
        "Στο κελί Generate που εμφανίζεται γράψτε ένα prompt με το οποίο να του ζητάτε να αλλάξει τη μεταβλητή grade1 σε 5 και να ξαναϋπολογίσει και να τυπώσει τον μέσο όρο."
      ],
      "metadata": {
        "id": "1dhIvNXCecFf"
      }
    },
    {
      "cell_type": "code",
      "source": [
        "# prompt: grade1 = 5\n",
        "\n",
        "grade1 = 5\n",
        "average_grade = (grade1 + grade2 + grade3)/3\n",
        "average_grade\n"
      ],
      "metadata": {
        "id": "Qqvc9WWYVLYH",
        "colab": {
          "base_uri": "https://localhost:8080/"
        },
        "outputId": "53ef8066-b073-4199-9e30-91a09b180246"
      },
      "execution_count": null,
      "outputs": [
        {
          "output_type": "execute_result",
          "data": {
            "text/plain": [
              "6.666666666666667"
            ]
          },
          "metadata": {},
          "execution_count": 16
        }
      ]
    },
    {
      "cell_type": "code",
      "source": [
        "average_grade_int = int(average_grade)\n",
        "print(average_grade_int)"
      ],
      "metadata": {
        "colab": {
          "base_uri": "https://localhost:8080/"
        },
        "id": "ZASSZcl8XlQ7",
        "outputId": "173c9917-94d2-46af-8ddc-e32d65ad8bc3"
      },
      "execution_count": null,
      "outputs": [
        {
          "output_type": "stream",
          "name": "stdout",
          "text": [
            "6\n"
          ]
        }
      ]
    },
    {
      "cell_type": "markdown",
      "source": [
        "## Άσκηση 4\n",
        "\n",
        "Φτιάξτε μια λίστα με όνομα actorsL και βάλτε μέσα στη λίστα τα ονοματεπώνυμα 3 αγαπημένων σας ηθοποιών.\n",
        "\n",
        "Χρησιμοποιώντας το index, τυπώστε στην οθόνη:\n",
        "- το 2ο ονοματεπώνυμο της λίστας\n",
        "- το τελευταίο ονοματεπώνυμο της λίστας\n",
        "- τα 2 πρώτα ονοματεπώνυμα"
      ],
      "metadata": {
        "id": "_BaLrQrqV3jw"
      }
    },
    {
      "cell_type": "code",
      "source": [
        "actorsL = [\"Yannis Bezos\",\"Martha Vourtsi\",\"Ilias Meletis\"]"
      ],
      "metadata": {
        "id": "J8U-TfzMXVkx"
      },
      "execution_count": null,
      "outputs": []
    },
    {
      "cell_type": "code",
      "source": [
        "print(actorsL[1])"
      ],
      "metadata": {
        "colab": {
          "base_uri": "https://localhost:8080/"
        },
        "id": "2kz2tyDJX_7v",
        "outputId": "0e503df3-2485-466d-b77a-da17a2ee8fe5"
      },
      "execution_count": null,
      "outputs": [
        {
          "output_type": "stream",
          "name": "stdout",
          "text": [
            "Martha Vourtsi\n"
          ]
        }
      ]
    },
    {
      "cell_type": "code",
      "source": [
        "print(actorsL[2])"
      ],
      "metadata": {
        "colab": {
          "base_uri": "https://localhost:8080/"
        },
        "id": "88PUrsh6YHmF",
        "outputId": "817589fe-fe2d-4948-abd3-3a98f6bcaf9e"
      },
      "execution_count": null,
      "outputs": [
        {
          "output_type": "stream",
          "name": "stdout",
          "text": [
            "Ilias Meletis\n"
          ]
        }
      ]
    },
    {
      "cell_type": "code",
      "source": [
        "print(actorsL[0],actorsL[1])"
      ],
      "metadata": {
        "colab": {
          "base_uri": "https://localhost:8080/"
        },
        "id": "fzt1dOhTYMz7",
        "outputId": "ca93f2d7-088e-4ff1-e079-598156f5cb61"
      },
      "execution_count": null,
      "outputs": [
        {
          "output_type": "stream",
          "name": "stdout",
          "text": [
            "Yannis Bezos Martha Vourtsi\n"
          ]
        }
      ]
    }
  ]
}