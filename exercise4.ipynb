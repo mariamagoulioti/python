{
  "nbformat": 4,
  "nbformat_minor": 0,
  "metadata": {
    "colab": {
      "provenance": [],
      "include_colab_link": true
    },
    "kernelspec": {
      "name": "python3",
      "display_name": "Python 3"
    },
    "language_info": {
      "name": "python"
    }
  },
  "cells": [
    {
      "cell_type": "markdown",
      "metadata": {
        "id": "view-in-github",
        "colab_type": "text"
      },
      "source": [
        "<a href=\"https://colab.research.google.com/github/mariamagoulioti/python/blob/main/exercise4.ipynb\" target=\"_parent\"><img src=\"https://colab.research.google.com/assets/colab-badge.svg\" alt=\"Open In Colab\"/></a>"
      ]
    },
    {
      "cell_type": "markdown",
      "source": [
        "### Άσκηση 1\n",
        "\n",
        "Φτιάξτε ένα νέο κελί κώδικα ακριβώς από κάτω και:\n",
        "\n",
        "- Φτιάξτε μια λίστα με όνομα titlesL και βάλτε μέσα τους τίτλους 3 αγαπημένων σας ταινιών\n",
        "- Φτιάξτε άλλη μια λίστα με όνομα ratingsL και βάλτε μέσα το βαθμό (από το 1 έως το 10) που θα βάζατε σε καθε μια από τις ταινίες\n",
        "- Φτιάξτε μια for loop που να τρέχει για όλα τα αντικείμενα της λίστας των ταινιών και να τυπώνει το όνομά της και το βαθμό της.\n",
        "\n",
        "Hints:\n",
        "Δεδομενου ότι οι δύο λίστες έχουν τον ίδιο αριθμό αντικειμένων και η σειρά των βαθμολογιών αντιστοιχεί στη σειρά των ταινιών, μπορείτε να χρησιμοποιήσετε τον αριθμό του index και την range() σε συνδυασμό με τη len().\n",
        "\n",
        "**Γράψτε σε comment τι κάνει η κάθε γραμμή του κώδικά σας.**\n"
      ],
      "metadata": {
        "id": "QOAgGYGWvJIp"
      }
    },
    {
      "cell_type": "code",
      "source": [
        "titlesL = [\"Kill Bill\", \"Inception\", \"Green Mile\"] #δημιουργία λίστας αγαπημένων ταινιών"
      ],
      "metadata": {
        "id": "wxuW62Ly2z8q"
      },
      "execution_count": null,
      "outputs": []
    },
    {
      "cell_type": "code",
      "source": [
        "ratingL = [7, 8, 9] #δημιουργία λίστας βαθμολογιών για κάθε ταινία"
      ],
      "metadata": {
        "id": "ngLcDk_DRvJC"
      },
      "execution_count": null,
      "outputs": []
    },
    {
      "cell_type": "code",
      "source": [
        "for i in range(len(titlesL)): #χρήση for loop με range για να εξεταστούν όλα τα στοιχεία τησ λίστας\n",
        " print(titlesL[i], ratingL[i]) #εκτύπωση κάθε ταονίας με την αντίστοιχη βαθμολογία"
      ],
      "metadata": {
        "colab": {
          "base_uri": "https://localhost:8080/"
        },
        "id": "fD0bxyIlSKmW",
        "outputId": "5e7cf65c-0543-4208-a503-8f329b378b01"
      },
      "execution_count": null,
      "outputs": [
        {
          "output_type": "stream",
          "name": "stdout",
          "text": [
            "Kill Bill 7\n",
            "Inception 8\n",
            "Green Mile 9\n"
          ]
        }
      ]
    },
    {
      "cell_type": "markdown",
      "source": [
        "### Άσκηση 2\n",
        "\n",
        "Φτιάξτε ένα νέο κελί κώδικα ακριβώς από κάτω και:\n",
        "\n",
        "- Φτιάξτε μια λίστα με όνομα titlesL και βάλτε μέσα τους τίτλους 3 αγαπημένων σας ταινιών\n",
        "- Φτιάξτε άλλη μια λίστα με όνομα ratingsL και βάλτε μέσα το βαθμό (από το 1 έως το 10) που θα βάζατε σε καθε μια από τις ταινίες\n",
        "\n",
        "**Αν κάνατε την προηγούμενη άσκηση, χρησιμοποιήστε τις ήδη δημιουργημένες λίστες titlesL και ratingsL - δλδ μην φτιάξετε καινούριες λίστες για το ίδιο πράγμα**\n",
        "\n",
        "- Φτιάξτε μια κενή λίστα με όνομα moviesL\n",
        "\n",
        "Φτιάξτε μια for loop που να τρέχει για όλα τα indexes της λίστας των ταινιών και να κάνει τα παρακάτω:\n",
        "- δημιουργεί ένα κενό λεξικό με όνομα movieD\n",
        "- φτιάχνει ένα item στο λεξικό με όνομα κλειδιού \"title\" και τιμή τον τίτλο που αντιστοιχεί στο εκάστοτε index της λίστας titlesL\n",
        "- φτιάχνει ένα item στο λεξικό με όνομα κλειδιού \"rating\" και τιμή το rating που αντιστοιχεδί στο εκάστοτε index της λίστας ratingsL\n",
        "- προσθέτει το λεξικό στη λίστα moviesL\n",
        "\n",
        "Τέλος, τυπώστε τη λίστα moviesL.\n",
        "\n",
        "**Γράψτε σε comment τι κάνει η κάθε γραμμή του κώδικά σας.**\n"
      ],
      "metadata": {
        "id": "TjFqUapc0JMr"
      }
    },
    {
      "cell_type": "code",
      "source": [
        "titlesL = [\"Kill Bill\", \"Inception\", \"Green Mile\"] #δημιουργία λίστας των 3 αγαπημένων ταινιών\n",
        "ratingL = [7, 8, 9] #δημιουργία λίστας με βαθμολογλιες για κάθε ταινία"
      ],
      "metadata": {
        "id": "gDcAB6eG8AbC"
      },
      "execution_count": null,
      "outputs": []
    },
    {
      "cell_type": "code",
      "source": [
        "moviesL = [] #κενή λίστα"
      ],
      "metadata": {
        "id": "1TkOVTfcVtsE"
      },
      "execution_count": null,
      "outputs": []
    },
    {
      "cell_type": "code",
      "source": [
        "for i in range(len(titlesL)): #για κάθε index της λίστς\n",
        " movieD = {} #κενό λεξικό\n",
        " movieD[\"title\"] = titlesL[i] #η ονομασία της ταινίας προστέθηκε στο λεξικό\n",
        " movieD[\"rating\"] = ratingL[i] #πρόσθεση βαθμολογίας\n",
        " moviesL.append(movieD) #προσθέτουμε τη λίστα moviesL\n",
        " print(moviesL)"
      ],
      "metadata": {
        "colab": {
          "base_uri": "https://localhost:8080/"
        },
        "id": "e-xB5seFV4Nb",
        "outputId": "72fce678-07e2-4d42-db90-ec77dc97ffd5"
      },
      "execution_count": null,
      "outputs": [
        {
          "output_type": "stream",
          "name": "stdout",
          "text": [
            "[{'title': 'Kill Bill', 'rating': 7}]\n",
            "[{'title': 'Kill Bill', 'rating': 7}, {'title': 'Inception', 'rating': 8}]\n",
            "[{'title': 'Kill Bill', 'rating': 7}, {'title': 'Inception', 'rating': 8}, {'title': 'Green Mile', 'rating': 9}]\n"
          ]
        }
      ]
    },
    {
      "cell_type": "markdown",
      "source": [
        "### Άσκηση 3\n",
        "\n",
        "Γράψτε ένα προγραμματάκι που θα αθροίζει όλους τους περιττούς αριθμούς από το 1 έως και το 100 και θα τυπώνει το τελικό άθροισμα.\n",
        "\n",
        "Hints & tips:\n",
        "\n",
        "- περιττοί είναι οι αριθμοί που το υπόλοιπο της διαίρεσής τους με το 2 ΔΕΝ είναι 0 (x % 2 != 0)\n",
        "- μπορούμε αρχικά να ορίσουμε ότι το άθροισμα των περιττών αριθμών είναι 0 (sum = 0)\n",
        "- στη συνέχεια μπορούμε να φτιάξουμε μια λούπα που θα κάνει τα εξής:\n",
        "  - για κάθε αριθμό από το 1 ως και το 100\n",
        "  - αν το υπόλοιπο της διαίρεσης του αριθμού με το 2 δεν είναι 0\n",
        "  - το άθροισμα θα αυξάνεται κατά τον αριθμό\n"
      ],
      "metadata": {
        "id": "_0torHabJHFA"
      }
    },
    {
      "cell_type": "code",
      "execution_count": null,
      "metadata": {
        "id": "rKIkwJofI3Cj",
        "colab": {
          "base_uri": "https://localhost:8080/"
        },
        "outputId": "61206dc0-6e18-4ec8-8a84-99e2aab64436"
      },
      "outputs": [
        {
          "output_type": "stream",
          "name": "stdout",
          "text": [
            "2500\n"
          ]
        }
      ],
      "source": [
        "sum = 0 #αρχικο αθροισμα ισο με το 0\n",
        "for i in range(1, 101): #λουπα για τους αριθμοσ απο το 1 μεχρι το 100\n",
        "  if i % 2 != 0: #ελεγχος περιττωναριθμος\n",
        "    sum += i #αν ειναι περιττος τον προσθετουμε στο αθροισμα\n",
        "\n",
        "print(sum)"
      ]
    },
    {
      "cell_type": "markdown",
      "source": [
        "### Άσκηση 4\n",
        "\n",
        "Τροποποιήστε το παραπάνω πρόγραμμα έτσι ώστε, εκτός από το άθροισμα των περιττών, να υπολογίζει και να τυπώνει ΚΑΙ:\n",
        "- το πλήθος των περιττών αριθμών\n",
        "- το άθροισμα των ζυγών αριθμών στο ίδιο εύρος\n",
        "- το πλήθος των ζυγών αριθμών"
      ],
      "metadata": {
        "id": "zvsE7AANokOf"
      }
    },
    {
      "cell_type": "code",
      "source": [
        "odd_sum = 0 #αθροισμα περιττων"
      ],
      "metadata": {
        "id": "Wza4cHEzO1Y_"
      },
      "execution_count": null,
      "outputs": []
    },
    {
      "cell_type": "code",
      "source": [
        "odd_count = 0 #πληθος περιττων"
      ],
      "metadata": {
        "id": "ArMiodwsZ89p"
      },
      "execution_count": null,
      "outputs": []
    },
    {
      "cell_type": "code",
      "source": [
        "even_sum = 0 #αθροισμα ζυγων"
      ],
      "metadata": {
        "id": "cFsmb69vaE0O"
      },
      "execution_count": null,
      "outputs": []
    },
    {
      "cell_type": "code",
      "source": [
        "even_count = 0 #πληθος ζυγων"
      ],
      "metadata": {
        "id": "KQrwidgWaInJ"
      },
      "execution_count": null,
      "outputs": []
    },
    {
      "cell_type": "code",
      "source": [
        "for i in range(1, 101): #λουπα απο το 1 εως το 100\n",
        "  if i % 2 != 0: #ελεγχος\n",
        "    odd_sum += i #αν ειναι περιττος τον προσθετουμε στο αθροισμα των περιττων\n",
        "    odd_count += 1 #αυξανεται το αθροισμα των περιττων κατα 1\n",
        "  else:\n",
        "      even_sum += i #αν ειναι ζυγος τον προσθετουμε στο αθροισμα των περιττων\n",
        "      even_count += 1 #αυξανεται το αθροισμα των ζυγων κατα 1"
      ],
      "metadata": {
        "id": "j37-fixlaN7m"
      },
      "execution_count": null,
      "outputs": []
    },
    {
      "cell_type": "code",
      "source": [
        "print(\"Άθροισμα περιττών\", odd_sum) #εκτυπωση αποτελεσματων\n",
        "print(\"Πλήθος περιττών\", odd_count)\n",
        "print(\"Άθροισμα ζυγών\", even_sum)\n",
        "print(\"Πλήθος ζυγών\", even_count)"
      ],
      "metadata": {
        "colab": {
          "base_uri": "https://localhost:8080/"
        },
        "id": "KB8ve1KJbFna",
        "outputId": "ae052f3d-86e8-4895-d1f8-952eb57e4629"
      },
      "execution_count": null,
      "outputs": [
        {
          "output_type": "stream",
          "name": "stdout",
          "text": [
            "Άθροισμα περιττών 2500\n",
            "Πλήθος περιττών 50\n",
            "Άθροισμα ζυγών 2550\n",
            "Πλήθος ζυγών 50\n"
          ]
        }
      ]
    }
  ]
}